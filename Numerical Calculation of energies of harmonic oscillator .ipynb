{
 "cells": [
  {
   "cell_type": "markdown",
   "metadata": {},
   "source": [
    "# Quantum Harmonic Oscillator with potential $V(x)  = V_{0}\\frac{x^{2}}{a^{2}}$\n",
    "Quantum harmonic oscillator was a clasical example in quantum mechanics as it could be solved analytically by using raising and lowering operators. The Schro ̈dinger’s equation of harmonic oscillator was as follows:\n",
    "\n",
    "\\begin{align}\n",
    " - \\frac{\\hbar^{2}}{2m} \\frac{d^{2} \\psi}{dx^{2}} + \\frac{1}{2}m \\omega^{2}x^{2} \\psi = E \\psi\n",
    "\\end{align}\n",
    "\n",
    "where $ \\hbar$􏰧, m, $omega$,E, and $psi$ are the Planck’s constant, mass of electron,osillation\n",
    "frequency, energy,and solution of time-independent Schrödinger’s equation. In this code, we need to compute the similar Schro ̈dinger’s equation but the potential is $V(x) = V_{0}\\frac{x^{2}}{a^{2}} $ . Therefore,theSchro ̈dinger’sequationwasnowreadasfollow: \n",
    "\n",
    "\\begin{align}\n",
    " - \\frac{\\hbar^{2}}{2m} \\frac{d^{2} \\psi}{dx^{2}} + V_{0}\\frac{x^{2}}{a^{2}} \\psi = E \\psi\n",
    "\\end{align}\n",
    "\n",
    "When we tried to use Python to compute ψ, we needed to convert the eqaution above into dimension-less form, which as shown below by letting $ \\xi = x/b$:\n",
    "\n",
    "\\begin{align}\n",
    " \\frac{d^{2} \\psi(\\xi) }{dx^{2}} - \\frac{2mb^{4} V_{0}}{\\hbar^{2}a^{2}} \\psi(\\xi) = \\frac{-2mEb^{2}}{\\hbar^{2}} \\psi(\\xi)\n",
    "\\end{align}\n",
    "\n",
    "By imposing 􏰧$\\frac{2mb^{4} V_{0}}{\\hbar^{2}a^{2}}$ = 1, we could get $b = (\\frac{\\hbar^{2}a^{2}}{2mV_{0}})^{1/4}$ . Therefore, the equaltion is now dimension-less."
   ]
  },
  {
   "cell_type": "code",
   "execution_count": 8,
   "metadata": {},
   "outputs": [],
   "source": [
    "import numpy as np\n",
    "import matplotlib.pyplot as plt"
   ]
  },
  {
   "cell_type": "code",
   "execution_count": 2,
   "metadata": {},
   "outputs": [],
   "source": [
    "# Parameters \n",
    "e = 1.60217662E-19\n",
    "V_0 = 50*e\n",
    "a = 1E-11\n",
    "m = 9.1094E-31\n",
    "h_bar = 1.0546E-34\n",
    "# b = np.sqrt(a**2*h_bar**2/(2*m*V_0))\n",
    "b_2 = (a**2*h_bar**2/(2*m*V_0))**(1/4)\n",
    "N = 1000\n",
    "\n",
    "w_2 = np.sqrt(2*V_0/(m*a**2))"
   ]
  },
  {
   "cell_type": "code",
   "execution_count": 3,
   "metadata": {},
   "outputs": [],
   "source": [
    "# Define the fucton fphi and fpsi for 4th order Runge Kutta Method \n",
    "def f(r,x,E):\n",
    "    psi,phi = r\n",
    "    fpsi = phi\n",
    "    fphi = (x**2- 2*m*E*b_2**2/h_bar**2)*psi\n",
    "    return np.array([fpsi,fphi],float)\n"
   ]
  },
  {
   "cell_type": "code",
   "execution_count": 4,
   "metadata": {},
   "outputs": [],
   "source": [
    "# RK4 method \n",
    "def solve(f,b,**arg):\n",
    "    psi = 0.0\n",
    "    phi = 1.0\n",
    "    L = 20 * a / b\n",
    "    h = L / N\n",
    "    r =np.array([psi,phi],float)\n",
    "    for x in np.arange(-10*a/b,10*a/b,h):\n",
    "        k1 = h * f(r, x, **arg)\n",
    "        k2 = h * f(r + 0.5 * k1, x+ 0.5 * h, **arg)\n",
    "        k3 = h * f(r + 0.5 * k2, x + 0.5 * h, **arg)\n",
    "        k4 = h * f(r + k3, x + h, **arg)\n",
    "        r +=  (k1 + 2 * k2 + 2 * k3 + k4) / 6\n",
    "    return r[0]"
   ]
  },
  {
   "cell_type": "code",
   "execution_count": 5,
   "metadata": {},
   "outputs": [],
   "source": [
    "# Binary search of ground/excited states energies\n",
    "# Search which values match the boundary value problem\n",
    "E_1= [ ]\n",
    "for i in range(1,15):\n",
    "    E1 = (100+ i)*e\n",
    "    E2 =  (100*(i+1))*e\n",
    "    # E1 = (50)*i*e\n",
    "    # E2 = 50*(i+1)*e\n",
    "    psi2 = solve(f=f,b = b_2,E=E1)\n",
    "    target = float(e*1E-4)\n",
    "    while abs(E1 - E2) > target:\n",
    "        psi1, psi2 = psi2, solve(f=f,b = b_2,E=E2)\n",
    "        E1, E2 = E2, E2 - psi2 * (E2 - E1) / (psi2 - psi1)\n",
    "    E_1.append(E2/e)\n",
    "    if i >= 2:\n",
    "        diff = abs(E_1[-1]- E_1[-2])/e"
   ]
  },
  {
   "cell_type": "code",
   "execution_count": 7,
   "metadata": {},
   "outputs": [
    {
     "data": {
      "text/plain": [
       "[138.0249791279539,\n",
       " 414.07493773322227,\n",
       " 414.0749377181093,\n",
       " 690.1248974303898,\n",
       " 690.1248974303777,\n",
       " 690.1248974305457,\n",
       " 966.1748589542309,\n",
       " 966.1748589540865,\n",
       " 966.1748589540529,\n",
       " 1242.224823267479,\n",
       " 1242.2248232661964,\n",
       " 1242.224823267479,\n",
       " 1518.2747938741013,\n",
       " 1499.9999089727733]"
      ]
     },
     "execution_count": 7,
     "metadata": {},
     "output_type": "execute_result"
    }
   ],
   "source": [
    "# Allowed energies \n",
    "E_1"
   ]
  },
  {
   "cell_type": "code",
   "execution_count": 6,
   "metadata": {},
   "outputs": [
    {
     "data": {
      "image/png": "[encoded data removed]",
      "text/plain": [
       "<Figure size 432x288 with 1 Axes>"
      ]
     },
     "metadata": {
      "needs_background": "light"
     },
     "output_type": "display_data"
    }
   ],
   "source": [
    "# Plot of Energy spectrum\n",
    "plt.figure(1)\n",
    "plt.title(r\"Energy of harmonic oscialltor $V(\\xi) \\approx \\xi^{2}$\")\n",
    "plt.ylabel(r\"Energy $(eV)$ \")\n",
    "plt.plot(np.arange(0,len(E_1),1),E_1)\n",
    "plt.grid(1)"
   ]
  }
 ],
 "metadata": {
  "kernelspec": {
   "display_name": "Python 3",
   "language": "python",
   "name": "python3"
  },
  "language_info": {
   "codemirror_mode": {
    "name": "ipython",
    "version": 3
   },
   "file_extension": ".py",
   "mimetype": "text/x-python",
   "name": "python",
   "nbconvert_exporter": "python",
   "pygments_lexer": "ipython3",
   "version": "3.7.3"
  }
 },
 "nbformat": 4,
 "nbformat_minor": 4
}
